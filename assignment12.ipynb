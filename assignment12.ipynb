{
 "cells": [
  {
   "cell_type": "code",
   "execution_count": 1,
   "id": "13f24445-29fd-41f9-afd1-75de255fd31b",
   "metadata": {},
   "outputs": [],
   "source": [
    "#                                                ANSWER 1 \n",
    "# Multithreading refers to concurrently executing multiple threads by rapidly switching the control of the CPU between threads (called context switching). The Python Global Interpreter Lock limits one thread to run at a time even if the machine contains multiple processors.\n",
    "#Python multithreading enables efficient utilization of the resources as the threads share the data space and memory. Multithreading in Python allows the concurrent and parallel occurrence of various tasks. It causes a reduction in time consumption or response time, thereby increasing the performance.\n",
    "# The Threading Module used to handle threads in python."
   ]
  },
  {
   "cell_type": "code",
   "execution_count": 2,
   "id": "ad51aa75-c609-4e32-aef5-0fce10148757",
   "metadata": {},
   "outputs": [],
   "source": [
    "#                                               ANSWER 2\n",
    "# Python threading allows you to have different parts of your program run concurrently and can simplify your design.\n",
    "#activeCount() − Returns the number of thread objects that are active.\n",
    "#currentThread() − Returns the number of thread objects in the caller's thread control.\n",
    "#enumerate() − Returns a list of all thread objects that are currently active."
   ]
  },
  {
   "cell_type": "code",
   "execution_count": 3,
   "id": "dc960ee9-242b-4861-a747-00a7619753f6",
   "metadata": {},
   "outputs": [],
   "source": [
    "#                                              ANSWER 3\n",
    "#run() − The run() method is the entry point for a thread.\n",
    "#start() − The start() method starts a thread by calling the run method.\n",
    "#join([time]) − The join() waits for threads to terminate.\n",
    "#isAlive() − The isAlive() method checks whether a thread is still executing."
   ]
  },
  {
   "cell_type": "code",
   "execution_count": 2,
   "id": "7d9ee80c-9628-4d8d-bc26-2ef26c0cb4c9",
   "metadata": {},
   "outputs": [],
   "source": [
    "#                                             ANSWER 5\n",
    "#                                      ADVANTAGES\n",
    "#Multithreading in Python streamlines the efficient utilization of resources as the threads share the same memory and data space.\n",
    "#It also allows the concurrent appearance of multiple tasks and reduces the response time. This improves the performance.\n",
    "#                                      DSADVANTAGES\n",
    "#Difficulty of writing code\n",
    "#Difficulty of debugging\n",
    "#Difficulty of managing concurrency"
   ]
  },
  {
   "cell_type": "code",
   "execution_count": 4,
   "id": "2766a351-d765-450a-9b44-a680855c34dc",
   "metadata": {},
   "outputs": [
    {
     "name": "stdout",
     "output_type": "stream",
     "text": [
      "THE SQUARE OF THE NUMBER IS : 100 Tue Feb 14 18:27:09 2023\n",
      "THE CUBE OF THE NUMBER IS : 27000 Tue Feb 14 18:27:09 2023\n"
     ]
    }
   ],
   "source": [
    "#                                               ANSWER 4 \n",
    "import threading\n",
    "import time\n",
    "def square_num(number):\n",
    "    print(\"THE SQUARE OF THE NUMBER IS :\", number*number,time.ctime())\n",
    "  \n",
    "def cube_num(number):\n",
    "    print(\"THE CUBE OF THE NUMBER IS :\", number*number*number,time.ctime())\n",
    " \n",
    "thread1 = [threading.Thread(target=square_num , args=(10,))]    \n",
    "thread2 = [threading.Thread(target=cube_num , args=(30,))]\n",
    "for t in thread1 : \n",
    "    t.start()\n",
    "for t in thread2 : \n",
    "    t.start()"
   ]
  },
  {
   "cell_type": "code",
   "execution_count": 6,
   "id": "144ebdd8-d0e5-4b00-8486-9a5644a7f555",
   "metadata": {},
   "outputs": [],
   "source": [
    "#                                              ANSWER 6\n",
    "#A deadlock is a concurrency failure mode where a thread or threads wait for a condition that never occurs. The result is that the deadlock threads are unable to progress and the program is stuck or frozen and must be terminated forcefully.\n",
    "#A race condition occurs when two threads access a shared variable at the same time. The first thread reads the variable, and the second thread reads the same value from the variable."
   ]
  },
  {
   "cell_type": "code",
   "execution_count": null,
   "id": "f0a4d0af-5f53-4afa-9e9c-ddefbdd8f387",
   "metadata": {},
   "outputs": [],
   "source": []
  }
 ],
 "metadata": {
  "kernelspec": {
   "display_name": "Python 3 (ipykernel)",
   "language": "python",
   "name": "python3"
  },
  "language_info": {
   "codemirror_mode": {
    "name": "ipython",
    "version": 3
   },
   "file_extension": ".py",
   "mimetype": "text/x-python",
   "name": "python",
   "nbconvert_exporter": "python",
   "pygments_lexer": "ipython3",
   "version": "3.10.8"
  }
 },
 "nbformat": 4,
 "nbformat_minor": 5
}
